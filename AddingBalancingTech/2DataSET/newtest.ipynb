{
 "cells": [
  {
   "cell_type": "code",
   "execution_count": 1,
   "metadata": {},
   "outputs": [],
   "source": [
    "import pandas as pd\n",
    "from textblob import TextBlob\n",
    "from sklearn.feature_extraction.text import TfidfVectorizer\n",
    "from sklearn.model_selection import train_test_split\n",
    "from sklearn.naive_bayes import MultinomialNB\n",
    "from sklearn.svm import SVC\n",
    "from sklearn.ensemble import RandomForestClassifier\n",
    "from sklearn.metrics import accuracy_score, classification_report\n",
    "from sklearn.utils.class_weight import compute_class_weight\n",
    "import nltk\n",
    "from nltk.corpus import stopwords\n",
    "import tensorflow as tf\n",
    "from tensorflow.keras.preprocessing.text import Tokenizer\n",
    "from tensorflow.keras.preprocessing.sequence import pad_sequences\n",
    "from tensorflow.keras.models import Sequential\n",
    "from tensorflow.keras.layers import Embedding, Conv1D, GlobalMaxPooling1D, LSTM, Dense, Bidirectional, SpatialDropout1D\n"
   ]
  },
  {
   "cell_type": "code",
   "execution_count": 2,
   "metadata": {},
   "outputs": [
    {
     "name": "stderr",
     "output_type": "stream",
     "text": [
      "[nltk_data] Downloading package stopwords to\n",
      "[nltk_data]     C:\\Users\\Moneykicks\\AppData\\Roaming\\nltk_data...\n",
      "[nltk_data]   Package stopwords is already up-to-date!\n"
     ]
    },
    {
     "data": {
      "text/plain": [
       "True"
      ]
     },
     "execution_count": 2,
     "metadata": {},
     "output_type": "execute_result"
    }
   ],
   "source": [
    "# Ensure NLTK stopwords are downloaded\n",
    "nltk.download('stopwords')"
   ]
  },
  {
   "cell_type": "code",
   "execution_count": 3,
   "metadata": {},
   "outputs": [
    {
     "name": "stdout",
     "output_type": "stream",
     "text": [
      "Stance\n",
      "supportive    25913\n",
      "neutral       25790\n",
      "oppose        25001\n",
      "Name: count, dtype: int64\n"
     ]
    }
   ],
   "source": [
    "# Load data from CSV file\n",
    "df = pd.read_csv('171kReviewWithSentiment.csv')\n",
    "\n",
    "# Keep only 'Review' and 'Stance' columns\n",
    "df = df[['Review', 'Stance']]\n",
    "\n",
    "# Drop rows where 'Review' or 'Stance' is NaN\n",
    "df = df.dropna(subset=['Review', 'Stance'])\n",
    "\n",
    "# Ensure all entries in 'Review' are strings\n",
    "df['Review'] = df['Review'].astype(str)\n",
    "\n",
    "# for full review display without truncation\n",
    "pd.set_option('display.max_colwidth', None)\n",
    "\n",
    "# Print value counts of 'Stance' column\n",
    "print(df['Stance'].value_counts())"
   ]
  },
  {
   "cell_type": "code",
   "execution_count": 4,
   "metadata": {},
   "outputs": [],
   "source": [
    "# Preprocess the text data\n",
    "stop_words = list(stopwords.words('english'))\n",
    "tfidf = TfidfVectorizer(stop_words=stop_words, max_df=0.7)\n",
    "\n",
    "# Transform the text data into TF-IDF features\n",
    "X = tfidf.fit_transform(df['Review'])\n",
    "\n",
    "# Encode the target labels\n",
    "y = df['Stance']"
   ]
  },
  {
   "cell_type": "code",
   "execution_count": 5,
   "metadata": {},
   "outputs": [
    {
     "name": "stdout",
     "output_type": "stream",
     "text": [
      "Naive Bayes Results:\n",
      "Accuracy: 0.7590769832475067\n",
      "Classification Report:\n",
      "              precision    recall  f1-score   support\n",
      "\n",
      "     neutral       0.68      0.60      0.64      5257\n",
      "      oppose       0.77      0.81      0.79      4976\n",
      "  supportive       0.82      0.87      0.84      5108\n",
      "\n",
      "    accuracy                           0.76     15341\n",
      "   macro avg       0.76      0.76      0.76     15341\n",
      "weighted avg       0.75      0.76      0.76     15341\n",
      "\n"
     ]
    }
   ],
   "source": [
    "# Split the dataset into training and testing sets\n",
    "X_train, X_test, y_train, y_test = train_test_split(X, y, test_size=0.2, random_state=42)\n",
    "\n",
    "# Initialize and train the Naive Bayes classifier\n",
    "nb_model = MultinomialNB()\n",
    "nb_model.fit(X_train, y_train)\n",
    "\n",
    "# Predict the stances on the test set using Naive Bayes\n",
    "nb_y_pred = nb_model.predict(X_test)\n",
    "\n",
    "# Evaluate the Naive Bayes model\n",
    "nb_accuracy = accuracy_score(y_test, nb_y_pred)\n",
    "nb_report = classification_report(y_test, nb_y_pred)\n",
    "print(\"Naive Bayes Results:\")\n",
    "print(f\"Accuracy: {nb_accuracy}\")\n",
    "print(\"Classification Report:\")\n",
    "print(nb_report)"
   ]
  },
  {
   "cell_type": "code",
   "execution_count": 9,
   "metadata": {},
   "outputs": [],
   "source": [
    "from sklearn.preprocessing import LabelEncoder \n",
    "# Assuming y_train contains the class labels\n",
    "label_encoder = LabelEncoder()\n",
    "y_train_encoded = label_encoder.fit_transform(y_train)\n",
    "y_test_encoded = label_encoder.transform(y_test)"
   ]
  },
  {
   "cell_type": "code",
   "execution_count": 10,
   "metadata": {},
   "outputs": [],
   "source": [
    "import numpy as np\n",
    "# Calculate class weights\n",
    "class_weights = compute_class_weight(class_weight='balanced', classes=np.unique(y_train_encoded), y=y_train_encoded)\n",
    "class_weights_dict = {i: class_weights[i] for i in range(len(class_weights))}\n"
   ]
  },
  {
   "cell_type": "code",
   "execution_count": 13,
   "metadata": {},
   "outputs": [
    {
     "name": "stdout",
     "output_type": "stream",
     "text": [
      "SVM Results:\n",
      "Accuracy: 0.7658562023336158\n",
      "Classification Report:\n",
      "              precision    recall  f1-score   support\n",
      "\n",
      "     neutral       0.70      0.58      0.64      5257\n",
      "      oppose       0.77      0.81      0.79      4976\n",
      "  supportive       0.81      0.91      0.86      5108\n",
      "\n",
      "    accuracy                           0.77     15341\n",
      "   macro avg       0.76      0.77      0.76     15341\n",
      "weighted avg       0.76      0.77      0.76     15341\n",
      "\n"
     ]
    }
   ],
   "source": [
    "# Initialize and train the SVM classifier\n",
    "svm_model = SVC(kernel='linear', class_weight=class_weights_dict)\n",
    "svm_model.fit(X_train, y_train_encoded)\n",
    "\n",
    "# Predict the stances on the test set using SVM\n",
    "svm_y_pred_encoded = svm_model.predict(X_test)\n",
    "\n",
    "# Decode the predicted labels back to the original class names\n",
    "svm_y_pred = label_encoder.inverse_transform(svm_y_pred_encoded)\n",
    "\n",
    "# Evaluate the SVM model\n",
    "svm_accuracy = accuracy_score(y_test, svm_y_pred)\n",
    "svm_report = classification_report(y_test, svm_y_pred)\n",
    "print(\"SVM Results:\")\n",
    "print(f\"Accuracy: {svm_accuracy}\")\n",
    "print(\"Classification Report:\")\n",
    "print(svm_report)"
   ]
  },
  {
   "cell_type": "code",
   "execution_count": 15,
   "metadata": {},
   "outputs": [
    {
     "name": "stdout",
     "output_type": "stream",
     "text": [
      "Random Forest Results:\n",
      "Accuracy: 0.7665732351215696\n",
      "Classification Report:\n",
      "              precision    recall  f1-score   support\n",
      "\n",
      "     neutral       0.70      0.58      0.64      5257\n",
      "      oppose       0.77      0.81      0.79      4976\n",
      "  supportive       0.81      0.92      0.86      5108\n",
      "\n",
      "    accuracy                           0.77     15341\n",
      "   macro avg       0.76      0.77      0.76     15341\n",
      "weighted avg       0.76      0.77      0.76     15341\n",
      "\n"
     ]
    }
   ],
   "source": [
    "# Assuming y_train contains the class labels\n",
    "label_encoder = LabelEncoder()\n",
    "y_train_encoded = label_encoder.fit_transform(y_train)\n",
    "y_test_encoded = label_encoder.transform(y_test)\n",
    "\n",
    "# Compute class weights\n",
    "class_weights = compute_class_weight('balanced', classes=np.unique(y_train_encoded), y=y_train_encoded)\n",
    "class_weights_dict = {label: weight for label, weight in zip(label_encoder.classes_, class_weights)}\n",
    "\n",
    "# Initialize and train the Random Forest classifier\n",
    "rf_model = RandomForestClassifier(n_estimators=100, random_state=42, class_weight='balanced')\n",
    "rf_model.fit(X_train, y_train_encoded)\n",
    "\n",
    "# Predict the stances on the test set using Random Forest\n",
    "rf_y_pred_encoded = rf_model.predict(X_test)\n",
    "\n",
    "# Decode the predicted labels back to the original class names\n",
    "rf_y_pred = label_encoder.inverse_transform(rf_y_pred_encoded)\n",
    "\n",
    "# Evaluate the Random Forest model\n",
    "rf_accuracy = accuracy_score(y_test, rf_y_pred)\n",
    "rf_report = classification_report(y_test, rf_y_pred)\n",
    "print(\"Random Forest Results:\")\n",
    "print(f\"Accuracy: {rf_accuracy}\")\n",
    "print(\"Classification Report:\")\n",
    "print(rf_report)\n"
   ]
  },
  {
   "cell_type": "code",
   "execution_count": 16,
   "metadata": {},
   "outputs": [
    {
     "name": "stdout",
     "output_type": "stream",
     "text": [
      "\n",
      "The best model based on accuracy is: Random Forest with accuracy 0.7665732351215696\n"
     ]
    }
   ],
   "source": [
    "# Initialize the accuracy_scores dictionary\n",
    "accuracy_scores = {}\n",
    "\n",
    "# Add Naive, SVM and Random Forest accuracy scores to the comparison\n",
    "accuracy_scores['Naive'] = nb_accuracy\n",
    "accuracy_scores['SVM'] = svm_accuracy\n",
    "accuracy_scores['Random Forest'] = rf_accuracy\n",
    "\n",
    "best_model = max(accuracy_scores, key=accuracy_scores.get)\n",
    "print(f\"\\nThe best model based on accuracy is: {best_model} with accuracy {accuracy_scores[best_model]}\")\n"
   ]
  },
  {
   "cell_type": "code",
   "execution_count": 22,
   "metadata": {},
   "outputs": [],
   "source": [
    "# Tokenizer and padding for deep learning models\n",
    "tokenizer = Tokenizer(num_words=5000)\n",
    "tokenizer.fit_on_texts(df['Review'])\n",
    "X_seq = tokenizer.texts_to_sequences(df['Review'])\n",
    "X_pad = pad_sequences(X_seq, maxlen=100)\n"
   ]
  },
  {
   "cell_type": "code",
   "execution_count": 23,
   "metadata": {},
   "outputs": [],
   "source": [
    "# Encode the target labels for deep learning models\n",
    "y_encoded = pd.get_dummies(df['Review']).values\n",
    "\n",
    "# Split the dataset into training and testing sets\n",
    "X_train, X_test, y_train, y_test = train_test_split(X_pad, y_encoded, test_size=0.2, random_state=42)"
   ]
  },
  {
   "cell_type": "code",
   "execution_count": 35,
   "metadata": {},
   "outputs": [
    {
     "name": "stdout",
     "output_type": "stream",
     "text": [
      "Epoch 1/5\n"
     ]
    },
    {
     "name": "stderr",
     "output_type": "stream",
     "text": [
      "c:\\Python312\\Lib\\site-packages\\keras\\src\\layers\\core\\embedding.py:90: UserWarning: Argument `input_length` is deprecated. Just remove it.\n",
      "  warnings.warn(\n"
     ]
    },
    {
     "name": "stdout",
     "output_type": "stream",
     "text": [
      "959/959 - 26s - 27ms/step - accuracy: 0.7689 - loss: 0.6015 - val_accuracy: 0.7779 - val_loss: 0.5819\n",
      "Epoch 2/5\n",
      "959/959 - 25s - 26ms/step - accuracy: 0.7764 - loss: 0.5807 - val_accuracy: 0.7779 - val_loss: 0.5811\n",
      "Epoch 3/5\n",
      "959/959 - 25s - 26ms/step - accuracy: 0.7770 - loss: 0.5791 - val_accuracy: 0.7777 - val_loss: 0.5849\n",
      "Epoch 4/5\n",
      "959/959 - 22s - 23ms/step - accuracy: 0.7777 - loss: 0.5772 - val_accuracy: 0.7778 - val_loss: 0.5803\n",
      "Epoch 5/5\n",
      "959/959 - 21s - 22ms/step - accuracy: 0.7777 - loss: 0.5765 - val_accuracy: 0.7779 - val_loss: 0.5806\n",
      "\u001b[1m480/480\u001b[0m \u001b[32m━━━━━━━━━━━━━━━━━━━━\u001b[0m\u001b[37m\u001b[0m \u001b[1m2s\u001b[0m 4ms/step\n",
      "CNN Results:\n",
      "Accuracy: 0.7779153901310214\n",
      "Classification Report:\n",
      "              precision    recall  f1-score   support\n",
      "\n",
      "           0       0.75      0.55      0.64      5257\n",
      "           1       0.77      0.85      0.81      4976\n",
      "           2       0.81      0.94      0.87      5108\n",
      "\n",
      "    accuracy                           0.78     15341\n",
      "   macro avg       0.77      0.78      0.77     15341\n",
      "weighted avg       0.77      0.78      0.77     15341\n",
      "\n"
     ]
    }
   ],
   "source": [
    "from sklearn.utils.class_weight import compute_class_weight\n",
    "from keras.utils import to_categorical\n",
    "from keras.models import Sequential\n",
    "from keras.layers import Embedding, Conv1D, GlobalMaxPooling1D, Dense\n",
    "from sklearn.metrics import accuracy_score, classification_report\n",
    "import numpy as np\n",
    "\n",
    "# Assuming y_train_encoded and y_test_encoded contain integer labels\n",
    "# One-hot encode the target variables\n",
    "y_train = to_categorical(y_train_encoded)\n",
    "y_test = to_categorical(y_test_encoded)\n",
    "\n",
    "# Compute class weights\n",
    "class_weights_dl = compute_class_weight('balanced', classes=np.unique(y_train.argmax(axis=1)), y=y_train.argmax(axis=1))\n",
    "class_weights_dl_dict = {i: weight for i, weight in enumerate(class_weights_dl)}\n",
    "\n",
    "# Define and compile the CNN model\n",
    "cnn_model = Sequential()\n",
    "cnn_model.add(Embedding(5000, 128, input_length=100))\n",
    "cnn_model.add(Conv1D(filters=128, kernel_size=5, padding='same', activation='relu'))\n",
    "cnn_model.add(GlobalMaxPooling1D())\n",
    "cnn_model.add(Dense(128, activation='relu'))\n",
    "cnn_model.add(Dense(3, activation='softmax'))  # Assuming 3 classes\n",
    "cnn_model.compile(loss='categorical_crossentropy', optimizer='adam', metrics=['accuracy'])\n",
    "\n",
    "# Train the model\n",
    "cnn_model.fit(X_train, y_train, epochs=5, batch_size=64, validation_data=(X_test, y_test), class_weight=class_weights_dl_dict, verbose=2)\n",
    "\n",
    "# Make predictions and evaluate the model\n",
    "cnn_y_pred = cnn_model.predict(X_test)\n",
    "cnn_y_pred_labels = cnn_y_pred.argmax(axis=1)\n",
    "y_test_labels = y_test.argmax(axis=1)\n",
    "\n",
    "cnn_accuracy = accuracy_score(y_test_labels, cnn_y_pred_labels)\n",
    "cnn_report = classification_report(y_test_labels, cnn_y_pred_labels)\n",
    "\n",
    "print(\"CNN Results:\")\n",
    "print(f\"Accuracy: {cnn_accuracy}\")\n",
    "print(\"Classification Report:\")\n",
    "print(cnn_report)\n"
   ]
  },
  {
   "cell_type": "code",
   "execution_count": 36,
   "metadata": {},
   "outputs": [
    {
     "name": "stdout",
     "output_type": "stream",
     "text": [
      "Epoch 1/5\n"
     ]
    },
    {
     "name": "stderr",
     "output_type": "stream",
     "text": [
      "c:\\Python312\\Lib\\site-packages\\keras\\src\\layers\\core\\embedding.py:90: UserWarning: Argument `input_length` is deprecated. Just remove it.\n",
      "  warnings.warn(\n"
     ]
    },
    {
     "name": "stdout",
     "output_type": "stream",
     "text": [
      "959/959 - 71s - 74ms/step - accuracy: 0.7582 - loss: 0.6186 - val_accuracy: 0.7776 - val_loss: 0.5813\n",
      "Epoch 2/5\n",
      "959/959 - 68s - 71ms/step - accuracy: 0.7760 - loss: 0.5827 - val_accuracy: 0.7775 - val_loss: 0.5798\n",
      "Epoch 3/5\n",
      "959/959 - 68s - 70ms/step - accuracy: 0.7769 - loss: 0.5804 - val_accuracy: 0.7777 - val_loss: 0.5805\n",
      "Epoch 4/5\n",
      "959/959 - 69s - 72ms/step - accuracy: 0.7768 - loss: 0.5788 - val_accuracy: 0.7776 - val_loss: 0.5794\n",
      "Epoch 5/5\n",
      "959/959 - 69s - 72ms/step - accuracy: 0.7773 - loss: 0.5779 - val_accuracy: 0.7777 - val_loss: 0.5793\n",
      "\u001b[1m480/480\u001b[0m \u001b[32m━━━━━━━━━━━━━━━━━━━━\u001b[0m\u001b[37m\u001b[0m \u001b[1m6s\u001b[0m 11ms/step\n",
      "LSTM Results:\n",
      "Accuracy: 0.7777198357343068\n",
      "Classification Report:\n",
      "              precision    recall  f1-score   support\n",
      "\n",
      "           0       0.75      0.55      0.64      5257\n",
      "           1       0.77      0.85      0.81      4976\n",
      "           2       0.80      0.94      0.87      5108\n",
      "\n",
      "    accuracy                           0.78     15341\n",
      "   macro avg       0.77      0.78      0.77     15341\n",
      "weighted avg       0.77      0.78      0.77     15341\n",
      "\n"
     ]
    }
   ],
   "source": [
    "from sklearn.utils.class_weight import compute_class_weight\n",
    "from keras.utils import to_categorical\n",
    "from keras.models import Sequential\n",
    "from keras.layers import Embedding, SpatialDropout1D, LSTM, Dense\n",
    "from sklearn.metrics import accuracy_score, classification_report\n",
    "import numpy as np\n",
    "\n",
    "# Assuming y_train_encoded and y_test_encoded contain integer labels\n",
    "# One-hot encode the target variables\n",
    "y_train = to_categorical(y_train_encoded)\n",
    "y_test = to_categorical(y_test_encoded)\n",
    "\n",
    "# Compute class weights\n",
    "class_weights_dl = compute_class_weight('balanced', classes=np.unique(y_train.argmax(axis=1)), y=y_train.argmax(axis=1))\n",
    "class_weights_dl_dict = {i: weight for i, weight in enumerate(class_weights_dl)}\n",
    "\n",
    "# Define and compile the LSTM model\n",
    "lstm_model = Sequential()\n",
    "lstm_model.add(Embedding(5000, 128, input_length=100))\n",
    "lstm_model.add(SpatialDropout1D(0.2))\n",
    "lstm_model.add(LSTM(100, dropout=0.2, recurrent_dropout=0.2))\n",
    "lstm_model.add(Dense(3, activation='softmax'))  # Assuming 3 classes\n",
    "lstm_model.compile(loss='categorical_crossentropy', optimizer='adam', metrics=['accuracy'])\n",
    "\n",
    "# Train the model\n",
    "lstm_model.fit(X_train, y_train, epochs=5, batch_size=64, validation_data=(X_test, y_test), class_weight=class_weights_dl_dict, verbose=2)\n",
    "\n",
    "# Make predictions and evaluate the model\n",
    "lstm_y_pred = lstm_model.predict(X_test)\n",
    "lstm_y_pred_labels = lstm_y_pred.argmax(axis=1)\n",
    "y_test_labels = y_test.argmax(axis=1)\n",
    "\n",
    "lstm_accuracy = accuracy_score(y_test_labels, lstm_y_pred_labels)\n",
    "lstm_report = classification_report(y_test_labels, lstm_y_pred_labels)\n",
    "\n",
    "print(\"LSTM Results:\")\n",
    "print(f\"Accuracy: {lstm_accuracy}\")\n",
    "print(\"Classification Report:\")\n",
    "print(lstm_report)\n"
   ]
  },
  {
   "cell_type": "code",
   "execution_count": null,
   "metadata": {},
   "outputs": [
    {
     "name": "stdout",
     "output_type": "stream",
     "text": [
      "Epoch 1/5\n"
     ]
    },
    {
     "name": "stderr",
     "output_type": "stream",
     "text": [
      "c:\\Python312\\Lib\\site-packages\\keras\\src\\layers\\core\\embedding.py:90: UserWarning: Argument `input_length` is deprecated. Just remove it.\n",
      "  warnings.warn(\n"
     ]
    },
    {
     "name": "stdout",
     "output_type": "stream",
     "text": [
      "959/959 - 101s - 106ms/step - accuracy: 0.8136 - loss: 0.4610 - val_accuracy: 0.8632 - val_loss: 0.3658\n",
      "Epoch 2/5\n",
      "959/959 - 102s - 106ms/step - accuracy: 0.8711 - loss: 0.3459 - val_accuracy: 0.8645 - val_loss: 0.3526\n",
      "Epoch 3/5\n",
      "959/959 - 97s - 101ms/step - accuracy: 0.8813 - loss: 0.3194 - val_accuracy: 0.8652 - val_loss: 0.3514\n",
      "Epoch 4/5\n",
      "959/959 - 111s - 116ms/step - accuracy: 0.8886 - loss: 0.3020 - val_accuracy: 0.8676 - val_loss: 0.3457\n",
      "Epoch 5/5\n",
      "959/959 - 182s - 189ms/step - accuracy: 0.8936 - loss: 0.2884 - val_accuracy: 0.8655 - val_loss: 0.3577\n",
      "\u001b[1m480/480\u001b[0m \u001b[32m━━━━━━━━━━━━━━━━━━━━\u001b[0m\u001b[37m\u001b[0m \u001b[1m18s\u001b[0m 36ms/step\n",
      "BiLSTM Results:\n",
      "Accuracy: 0.8654585750602959\n",
      "Classification Report:\n",
      "              precision    recall  f1-score   support\n",
      "\n",
      "           0       0.82      0.80      0.81      5257\n",
      "           1       0.84      0.90      0.87      4976\n",
      "           2       0.94      0.90      0.92      5108\n",
      "\n",
      "    accuracy                           0.87     15341\n",
      "   macro avg       0.87      0.87      0.87     15341\n",
      "weighted avg       0.87      0.87      0.87     15341\n",
      "\n"
     ]
    }
   ],
   "source": [
    "# BiLSTM Model\n",
    "bilstm_model = Sequential()\n",
    "bilstm_model.add(Embedding(5000, 128, input_length=100))\n",
    "bilstm_model.add(SpatialDropout1D(0.2))\n",
    "bilstm_model.add(Bidirectional(LSTM(100, dropout=0.2, recurrent_dropout=0.2)))\n",
    "bilstm_model.add(Dense(3, activation='softmax'))\n",
    "bilstm_model.compile(loss='categorical_crossentropy', optimizer='adam', metrics=['accuracy'])\n",
    "bilstm_model.fit(X_train, y_train, epochs=5, batch_size=64, validation_data=(X_test, y_test), class_weight=class_weights_dl, verbose=2)\n",
    "\n",
    "bilstm_y_pred = bilstm_model.predict(X_test)\n",
    "bilstm_y_pred_labels = bilstm_y_pred.argmax(axis=1)\n",
    "y_test_labels = y_test.argmax(axis=1)\n",
    "\n",
    "bilstm_accuracy = accuracy_score(y_test_labels, bilstm_y_pred_labels)\n",
    "bilstm_report = classification_report(y_test_labels, bilstm_y_pred_labels)\n",
    "\n",
    "print(\"BiLSTM Results:\")\n",
    "print(f\"Accuracy: {bilstm_accuracy}\")\n",
    "print(\"Classification Report:\")\n",
    "print(bilstm_report)"
   ]
  },
  {
   "cell_type": "code",
   "execution_count": null,
   "metadata": {},
   "outputs": [],
   "source": [
    "# Compare the accuracy of all models\n",
    "accuracy_scores_all = {\n",
    "    'Naive Bayes': nb_accuracy,\n",
    "    'SVM': svm_accuracy,\n",
    "    'Random Forest': rf_accuracy,\n",
    "    'CNN': cnn_accuracy,\n",
    "    'LSTM': lstm_accuracy,\n",
    "    'BiLSTM': bilstm_accuracy\n",
    "}"
   ]
  },
  {
   "cell_type": "code",
   "execution_count": null,
   "metadata": {},
   "outputs": [
    {
     "name": "stdout",
     "output_type": "stream",
     "text": [
      "\n",
      "The best model based on accuracy is: CNN with accuracy 0.8687829998044456\n"
     ]
    }
   ],
   "source": [
    "# Find the best model among all based on accuracy\n",
    "best_model = max(accuracy_scores_all, key=accuracy_scores_all.get)\n",
    "print(f\"\\nThe best model based on accuracy is: {best_model} with accuracy {accuracy_scores_all[best_model]}\")"
   ]
  },
  {
   "cell_type": "code",
   "execution_count": 33,
   "metadata": {},
   "outputs": [
    {
     "name": "stdout",
     "output_type": "stream",
     "text": [
      "The detected stance for the input review is: supportive\n"
     ]
    }
   ],
   "source": [
    "# Function to detect stance of an input review\n",
    "def predict_stance(review):\n",
    "    # Preprocess the input review\n",
    "    review_tfidf = tfidf.transform([review])\n",
    "    \n",
    "    # Use the best model to predict the stance\n",
    "    if best_model == 'Naive Bayes':\n",
    "        prediction = nb_model.predict(review_tfidf)\n",
    "    elif best_model == 'SVM':\n",
    "        prediction_encoded = svm_model.predict(review_tfidf)\n",
    "        prediction = label_encoder.inverse_transform(prediction_encoded)\n",
    "    elif best_model == 'Random Forest':\n",
    "        prediction_encoded = rf_model.predict(review_tfidf)\n",
    "        prediction = label_encoder.inverse_transform(prediction_encoded)\n",
    "    elif best_model == 'CNN':\n",
    "        review_seq = tokenizer.texts_to_sequences([review])\n",
    "        review_pad = pad_sequences(review_seq, maxlen=100)\n",
    "        prediction_probs = cnn_model.predict(review_pad)\n",
    "        prediction = [np.argmax(prediction_probs)]\n",
    "        prediction = label_encoder.inverse_transform(prediction)\n",
    "    elif best_model == 'LSTM':\n",
    "        review_seq = tokenizer.texts_to_sequences([review])\n",
    "        review_pad = pad_sequences(review_seq, maxlen=100)\n",
    "        prediction_probs = lstm_model.predict(review_pad)\n",
    "        prediction = [np.argmax(prediction_probs)]\n",
    "        prediction = label_encoder.inverse_transform(prediction)\n",
    "    elif best_model == 'BiLSTM':\n",
    "        review_seq = tokenizer.texts_to_sequences([review])\n",
    "        review_pad = pad_sequences(review_seq, maxlen=100)\n",
    "        prediction_probs = bilstm_model.predict(review_pad)\n",
    "        prediction = [np.argmax(prediction_probs)]\n",
    "        prediction = label_encoder.inverse_transform(prediction)\n",
    "    \n",
    "    return prediction[0]\n",
    "\n",
    "# Example usage of the function\n",
    "input_review = \"I love some features of the product overall.\"\n",
    "detected_stance = predict_stance(input_review)\n",
    "print(f\"The detected stance for the input review is: {detected_stance}\")"
   ]
  }
 ],
 "metadata": {
  "kernelspec": {
   "display_name": "Python 3",
   "language": "python",
   "name": "python3"
  },
  "language_info": {
   "codemirror_mode": {
    "name": "ipython",
    "version": 3
   },
   "file_extension": ".py",
   "mimetype": "text/x-python",
   "name": "python",
   "nbconvert_exporter": "python",
   "pygments_lexer": "ipython3",
   "version": "3.12.3"
  }
 },
 "nbformat": 4,
 "nbformat_minor": 2
}
