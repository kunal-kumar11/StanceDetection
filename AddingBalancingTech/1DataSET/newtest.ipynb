{
 "cells": [
  {
   "cell_type": "code",
   "execution_count": 22,
   "metadata": {},
   "outputs": [],
   "source": [
    "import pandas as pd\n",
    "from textblob import TextBlob\n",
    "from sklearn.feature_extraction.text import TfidfVectorizer\n",
    "from sklearn.model_selection import train_test_split\n",
    "from sklearn.naive_bayes import MultinomialNB\n",
    "from sklearn.svm import SVC\n",
    "from sklearn.ensemble import RandomForestClassifier\n",
    "from sklearn.metrics import accuracy_score, classification_report\n",
    "from sklearn.utils.class_weight import compute_class_weight\n",
    "import nltk\n",
    "from nltk.corpus import stopwords\n",
    "import tensorflow as tf\n",
    "from tensorflow.keras.preprocessing.text import Tokenizer\n",
    "from tensorflow.keras.preprocessing.sequence import pad_sequences\n",
    "from tensorflow.keras.models import Sequential\n",
    "from tensorflow.keras.layers import Embedding, Conv1D, GlobalMaxPooling1D, LSTM, Dense, Bidirectional, SpatialDropout1D\n"
   ]
  },
  {
   "cell_type": "code",
   "execution_count": 21,
   "metadata": {},
   "outputs": [
    {
     "name": "stdout",
     "output_type": "stream",
     "text": [
      "Stance\n",
      "Supportive    4162\n",
      "Opposed        469\n",
      "Neutral        283\n",
      "Name: count, dtype: int64\n"
     ]
    },
    {
     "name": "stderr",
     "output_type": "stream",
     "text": [
      "[nltk_data] Error loading stopwords: <urlopen error [WinError 10065] A\n",
      "[nltk_data]     socket operation was attempted to an unreachable host>\n"
     ]
    }
   ],
   "source": [
    "# Ensure NLTK stopwords are downloaded\n",
    "nltk.download('stopwords')\n",
    "\n",
    "# Load data from CSV file\n",
    "df = pd.read_csv('5kReviewWithSentimentAmazon.csv')\n",
    "\n",
    "# Keep only 'reviewText' and 'Stance' columns\n",
    "df = df[['reviewText', 'Stance']]\n",
    "\n",
    "# Drop rows where 'reviewText' or 'Stance' is NaN\n",
    "df = df.dropna(subset=['reviewText', 'Stance'])\n",
    "\n",
    "# Ensure all entries in 'reviewText' are strings\n",
    "df['reviewText'] = df['reviewText'].astype(str)\n",
    "\n",
    "# for full review display without truncation\n",
    "pd.set_option('display.max_colwidth', None)\n",
    "\n",
    "# Print value counts of 'Stance' column\n",
    "print(df['Stance'].value_counts())"
   ]
  },
  {
   "cell_type": "code",
   "execution_count": 23,
   "metadata": {},
   "outputs": [],
   "source": [
    "# Preprocess the text data\n",
    "stop_words = list(stopwords.words('english'))\n",
    "tfidf = TfidfVectorizer(stop_words=stop_words, max_df=0.7)\n",
    "\n",
    "# Transform the text data into TF-IDF features\n",
    "X = tfidf.fit_transform(df['reviewText'])\n",
    "\n",
    "# Encode the target labels\n",
    "y = df['Stance']"
   ]
  },
  {
   "cell_type": "code",
   "execution_count": 24,
   "metadata": {},
   "outputs": [
    {
     "name": "stdout",
     "output_type": "stream",
     "text": [
      "Naive Bayes Results:\n",
      "Accuracy: 0.8474059003051883\n",
      "Classification Report:\n",
      "              precision    recall  f1-score   support\n",
      "\n",
      "     Neutral       1.00      0.02      0.04        52\n",
      "     Opposed       0.00      0.00      0.00        99\n",
      "  Supportive       0.85      1.00      0.92       832\n",
      "\n",
      "    accuracy                           0.85       983\n",
      "   macro avg       0.62      0.34      0.32       983\n",
      "weighted avg       0.77      0.85      0.78       983\n",
      "\n"
     ]
    },
    {
     "name": "stderr",
     "output_type": "stream",
     "text": [
      "c:\\Python312\\Lib\\site-packages\\sklearn\\metrics\\_classification.py:1509: UndefinedMetricWarning: Precision is ill-defined and being set to 0.0 in labels with no predicted samples. Use `zero_division` parameter to control this behavior.\n",
      "  _warn_prf(average, modifier, f\"{metric.capitalize()} is\", len(result))\n",
      "c:\\Python312\\Lib\\site-packages\\sklearn\\metrics\\_classification.py:1509: UndefinedMetricWarning: Precision is ill-defined and being set to 0.0 in labels with no predicted samples. Use `zero_division` parameter to control this behavior.\n",
      "  _warn_prf(average, modifier, f\"{metric.capitalize()} is\", len(result))\n",
      "c:\\Python312\\Lib\\site-packages\\sklearn\\metrics\\_classification.py:1509: UndefinedMetricWarning: Precision is ill-defined and being set to 0.0 in labels with no predicted samples. Use `zero_division` parameter to control this behavior.\n",
      "  _warn_prf(average, modifier, f\"{metric.capitalize()} is\", len(result))\n"
     ]
    }
   ],
   "source": [
    "# Split the dataset into training and testing sets\n",
    "X_train, X_test, y_train, y_test = train_test_split(X, y, test_size=0.2, random_state=42)\n",
    "\n",
    "# Initialize and train the Naive Bayes classifier\n",
    "nb_model = MultinomialNB()\n",
    "nb_model.fit(X_train, y_train)\n",
    "\n",
    "# Predict the stances on the test set using Naive Bayes\n",
    "nb_y_pred = nb_model.predict(X_test)\n",
    "\n",
    "# Evaluate the Naive Bayes model\n",
    "nb_accuracy = accuracy_score(y_test, nb_y_pred)\n",
    "nb_report = classification_report(y_test, nb_y_pred)\n",
    "print(\"Naive Bayes Results:\")\n",
    "print(f\"Accuracy: {nb_accuracy}\")\n",
    "print(\"Classification Report:\")\n",
    "print(nb_report)"
   ]
  },
  {
   "cell_type": "code",
   "execution_count": 25,
   "metadata": {},
   "outputs": [],
   "source": [
    "from sklearn.preprocessing import LabelEncoder \n",
    "# Assuming y_train contains the class labels\n",
    "label_encoder = LabelEncoder()\n",
    "y_train_encoded = label_encoder.fit_transform(y_train)\n",
    "y_test_encoded = label_encoder.transform(y_test)"
   ]
  },
  {
   "cell_type": "code",
   "execution_count": 26,
   "metadata": {},
   "outputs": [],
   "source": [
    "import numpy as np\n",
    "# Calculate class weights\n",
    "class_weights = compute_class_weight(class_weight='balanced', classes=np.unique(y_train_encoded), y=y_train_encoded)\n",
    "class_weights_dict = {i: class_weights[i] for i in range(len(class_weights))}\n"
   ]
  },
  {
   "cell_type": "code",
   "execution_count": 27,
   "metadata": {},
   "outputs": [
    {
     "name": "stdout",
     "output_type": "stream",
     "text": [
      "SVM Results:\n",
      "Accuracy: 0.8250254323499492\n",
      "Classification Report:\n",
      "              precision    recall  f1-score   support\n",
      "\n",
      "     Neutral       0.36      0.54      0.43        52\n",
      "     Opposed       0.43      0.47      0.45        99\n",
      "  Supportive       0.93      0.88      0.90       832\n",
      "\n",
      "    accuracy                           0.83       983\n",
      "   macro avg       0.57      0.63      0.60       983\n",
      "weighted avg       0.85      0.83      0.83       983\n",
      "\n"
     ]
    }
   ],
   "source": [
    "# Initialize and train the SVM classifier\n",
    "svm_model = SVC(kernel='linear', class_weight=class_weights_dict)\n",
    "svm_model.fit(X_train, y_train_encoded)\n",
    "\n",
    "# Predict the stances on the test set using SVM\n",
    "svm_y_pred_encoded = svm_model.predict(X_test)\n",
    "\n",
    "# Decode the predicted labels back to the original class names\n",
    "svm_y_pred = label_encoder.inverse_transform(svm_y_pred_encoded)\n",
    "\n",
    "# Evaluate the SVM model\n",
    "svm_accuracy = accuracy_score(y_test, svm_y_pred)\n",
    "svm_report = classification_report(y_test, svm_y_pred)\n",
    "print(\"SVM Results:\")\n",
    "print(f\"Accuracy: {svm_accuracy}\")\n",
    "print(\"Classification Report:\")\n",
    "print(svm_report)"
   ]
  },
  {
   "cell_type": "code",
   "execution_count": 28,
   "metadata": {},
   "outputs": [
    {
     "name": "stdout",
     "output_type": "stream",
     "text": [
      "Random Forest Results:\n",
      "Accuracy: 0.8494404883011191\n",
      "Classification Report:\n",
      "              precision    recall  f1-score   support\n",
      "\n",
      "     Neutral       1.00      0.04      0.07        52\n",
      "     Opposed       1.00      0.01      0.02        99\n",
      "  Supportive       0.85      1.00      0.92       832\n",
      "\n",
      "    accuracy                           0.85       983\n",
      "   macro avg       0.95      0.35      0.34       983\n",
      "weighted avg       0.87      0.85      0.78       983\n",
      "\n"
     ]
    }
   ],
   "source": [
    "# Assuming y_train contains the class labels\n",
    "label_encoder = LabelEncoder()\n",
    "y_train_encoded = label_encoder.fit_transform(y_train)\n",
    "y_test_encoded = label_encoder.transform(y_test)\n",
    "\n",
    "# Compute class weights\n",
    "class_weights = compute_class_weight('balanced', classes=np.unique(y_train_encoded), y=y_train_encoded)\n",
    "class_weights_dict = {label: weight for label, weight in zip(label_encoder.classes_, class_weights)}\n",
    "\n",
    "# Initialize and train the Random Forest classifier\n",
    "rf_model = RandomForestClassifier(n_estimators=100, random_state=42, class_weight='balanced')\n",
    "rf_model.fit(X_train, y_train_encoded)\n",
    "\n",
    "# Predict the stances on the test set using Random Forest\n",
    "rf_y_pred_encoded = rf_model.predict(X_test)\n",
    "\n",
    "# Decode the predicted labels back to the original class names\n",
    "rf_y_pred = label_encoder.inverse_transform(rf_y_pred_encoded)\n",
    "\n",
    "# Evaluate the Random Forest model\n",
    "rf_accuracy = accuracy_score(y_test, rf_y_pred)\n",
    "rf_report = classification_report(y_test, rf_y_pred)\n",
    "print(\"Random Forest Results:\")\n",
    "print(f\"Accuracy: {rf_accuracy}\")\n",
    "print(\"Classification Report:\")\n",
    "print(rf_report)\n"
   ]
  },
  {
   "cell_type": "code",
   "execution_count": 29,
   "metadata": {},
   "outputs": [
    {
     "name": "stdout",
     "output_type": "stream",
     "text": [
      "\n",
      "The best model based on accuracy is: Random Forest with accuracy 0.8494404883011191\n"
     ]
    }
   ],
   "source": [
    "# Initialize the accuracy_scores dictionary\n",
    "accuracy_scores = {}\n",
    "\n",
    "# Add Naive, SVM and Random Forest accuracy scores to the comparison\n",
    "accuracy_scores['Naive'] = nb_accuracy\n",
    "accuracy_scores['SVM'] = svm_accuracy\n",
    "accuracy_scores['Random Forest'] = rf_accuracy\n",
    "\n",
    "best_model = max(accuracy_scores, key=accuracy_scores.get)\n",
    "print(f\"\\nThe best model based on accuracy is: {best_model} with accuracy {accuracy_scores[best_model]}\")\n"
   ]
  },
  {
   "cell_type": "code",
   "execution_count": 30,
   "metadata": {},
   "outputs": [],
   "source": [
    "# Tokenizer and padding for deep learning models\n",
    "tokenizer = Tokenizer(num_words=5000)\n",
    "tokenizer.fit_on_texts(df['reviewText'])\n",
    "X_seq = tokenizer.texts_to_sequences(df['reviewText'])\n",
    "X_pad = pad_sequences(X_seq, maxlen=100)\n"
   ]
  },
  {
   "cell_type": "code",
   "execution_count": 31,
   "metadata": {},
   "outputs": [],
   "source": [
    "# Encode the target labels for deep learning models\n",
    "y_encoded = pd.get_dummies(df['Stance']).values\n",
    "\n",
    "# Split the dataset into training and testing sets\n",
    "X_train, X_test, y_train, y_test = train_test_split(X_pad, y_encoded, test_size=0.2, random_state=42)"
   ]
  },
  {
   "cell_type": "code",
   "execution_count": 32,
   "metadata": {},
   "outputs": [],
   "source": [
    "# Compute class weights for deep learning models\n",
    "class_weights_dl = compute_class_weight('balanced', classes=np.unique(y_train.argmax(axis=1)), y=y_train.argmax(axis=1))\n",
    "class_weights_dl_dict = {i: weight for i, weight in enumerate(class_weights_dl)}"
   ]
  },
  {
   "cell_type": "code",
   "execution_count": 33,
   "metadata": {},
   "outputs": [
    {
     "name": "stdout",
     "output_type": "stream",
     "text": [
      "Epoch 1/5\n"
     ]
    },
    {
     "name": "stderr",
     "output_type": "stream",
     "text": [
      "c:\\Python312\\Lib\\site-packages\\keras\\src\\layers\\core\\embedding.py:90: UserWarning: Argument `input_length` is deprecated. Just remove it.\n",
      "  warnings.warn(\n"
     ]
    },
    {
     "name": "stdout",
     "output_type": "stream",
     "text": [
      "62/62 - 3s - 46ms/step - accuracy: 0.6105 - loss: 1.0421 - val_accuracy: 0.5748 - val_loss: 0.8043\n",
      "Epoch 2/5\n",
      "62/62 - 2s - 26ms/step - accuracy: 0.7202 - loss: 0.6897 - val_accuracy: 0.7477 - val_loss: 0.5938\n",
      "Epoch 3/5\n",
      "62/62 - 2s - 25ms/step - accuracy: 0.8573 - loss: 0.3400 - val_accuracy: 0.8189 - val_loss: 0.4300\n",
      "Epoch 4/5\n",
      "62/62 - 2s - 26ms/step - accuracy: 0.9522 - loss: 0.1239 - val_accuracy: 0.8515 - val_loss: 0.3800\n",
      "Epoch 5/5\n",
      "62/62 - 2s - 27ms/step - accuracy: 0.9865 - loss: 0.0372 - val_accuracy: 0.8922 - val_loss: 0.3398\n",
      "\u001b[1m31/31\u001b[0m \u001b[32m━━━━━━━━━━━━━━━━━━━━\u001b[0m\u001b[37m\u001b[0m \u001b[1m0s\u001b[0m 5ms/step\n",
      "CNN Results:\n",
      "Accuracy: 0.8921668362156663\n",
      "Classification Report:\n",
      "              precision    recall  f1-score   support\n",
      "\n",
      "           0       0.63      0.65      0.64        52\n",
      "           1       0.64      0.46      0.54        99\n",
      "           2       0.93      0.96      0.94       832\n",
      "\n",
      "    accuracy                           0.89       983\n",
      "   macro avg       0.73      0.69      0.71       983\n",
      "weighted avg       0.88      0.89      0.89       983\n",
      "\n"
     ]
    }
   ],
   "source": [
    "from sklearn.utils.class_weight import compute_class_weight\n",
    "import numpy as np\n",
    "\n",
    "# Compute class weights for deep learning models\n",
    "class_weights = compute_class_weight('balanced', classes=np.unique(y_train_encoded), y=y_train_encoded)\n",
    "class_weights_dl = {i: class_weights[i] for i in range(len(class_weights))}\n",
    "\n",
    "# CNN Model\n",
    "cnn_model = Sequential()\n",
    "cnn_model.add(Embedding(5000, 128, input_length=100))\n",
    "cnn_model.add(Conv1D(filters=128, kernel_size=5, padding='same', activation='relu'))\n",
    "cnn_model.add(GlobalMaxPooling1D())\n",
    "cnn_model.add(Dense(128, activation='relu'))\n",
    "cnn_model.add(Dense(3, activation='softmax'))\n",
    "cnn_model.compile(loss='categorical_crossentropy', optimizer='adam', metrics=['accuracy'])\n",
    "cnn_model.fit(X_train, y_train, epochs=5, batch_size=64, validation_data=(X_test, y_test), class_weight=class_weights_dl, verbose=2)\n",
    "\n",
    "cnn_y_pred = cnn_model.predict(X_test)\n",
    "cnn_y_pred_labels = cnn_y_pred.argmax(axis=1)\n",
    "y_test_labels = y_test.argmax(axis=1)\n",
    "\n",
    "cnn_accuracy = accuracy_score(y_test_labels, cnn_y_pred_labels)\n",
    "cnn_report = classification_report(y_test_labels, cnn_y_pred_labels)\n",
    "\n",
    "print(\"CNN Results:\")\n",
    "print(f\"Accuracy: {cnn_accuracy}\")\n",
    "print(\"Classification Report:\")\n",
    "print(cnn_report)\n"
   ]
  },
  {
   "cell_type": "code",
   "execution_count": 34,
   "metadata": {},
   "outputs": [
    {
     "name": "stdout",
     "output_type": "stream",
     "text": [
      "Epoch 1/5\n"
     ]
    },
    {
     "name": "stderr",
     "output_type": "stream",
     "text": [
      "c:\\Python312\\Lib\\site-packages\\keras\\src\\layers\\core\\embedding.py:90: UserWarning: Argument `input_length` is deprecated. Just remove it.\n",
      "  warnings.warn(\n"
     ]
    },
    {
     "name": "stdout",
     "output_type": "stream",
     "text": [
      "62/62 - 7s - 109ms/step - accuracy: 0.4050 - loss: 1.0594 - val_accuracy: 0.5005 - val_loss: 0.9180\n",
      "Epoch 2/5\n",
      "62/62 - 4s - 71ms/step - accuracy: 0.6418 - loss: 0.8271 - val_accuracy: 0.7131 - val_loss: 0.6380\n",
      "Epoch 3/5\n",
      "62/62 - 4s - 69ms/step - accuracy: 0.7492 - loss: 0.5870 - val_accuracy: 0.5697 - val_loss: 0.8235\n",
      "Epoch 4/5\n",
      "62/62 - 5s - 74ms/step - accuracy: 0.8207 - loss: 0.4093 - val_accuracy: 0.7986 - val_loss: 0.5152\n",
      "Epoch 5/5\n",
      "62/62 - 4s - 69ms/step - accuracy: 0.8794 - loss: 0.2568 - val_accuracy: 0.7335 - val_loss: 0.6632\n",
      "\u001b[1m31/31\u001b[0m \u001b[32m━━━━━━━━━━━━━━━━━━━━\u001b[0m\u001b[37m\u001b[0m \u001b[1m1s\u001b[0m 16ms/step\n",
      "LSTM Results:\n",
      "Accuracy: 0.7334689725330621\n",
      "Classification Report:\n",
      "              precision    recall  f1-score   support\n",
      "\n",
      "           0       0.53      0.65      0.59        52\n",
      "           1       0.24      0.63      0.35        99\n",
      "           2       0.94      0.75      0.84       832\n",
      "\n",
      "    accuracy                           0.73       983\n",
      "   macro avg       0.57      0.68      0.59       983\n",
      "weighted avg       0.85      0.73      0.77       983\n",
      "\n"
     ]
    }
   ],
   "source": [
    "# LSTM Model\n",
    "lstm_model = Sequential()\n",
    "lstm_model.add(Embedding(5000, 128, input_length=100))\n",
    "lstm_model.add(SpatialDropout1D(0.2))\n",
    "lstm_model.add(LSTM(100, dropout=0.2, recurrent_dropout=0.2))\n",
    "lstm_model.add(Dense(3, activation='softmax'))\n",
    "lstm_model.compile(loss='categorical_crossentropy', optimizer='adam', metrics=['accuracy'])\n",
    "lstm_model.fit(X_train, y_train, epochs=5, batch_size=64, validation_data=(X_test, y_test), class_weight=class_weights_dl, verbose=2)\n",
    "\n",
    "lstm_y_pred = lstm_model.predict(X_test)\n",
    "lstm_y_pred_labels = lstm_y_pred.argmax(axis=1)\n",
    "y_test_labels = y_test.argmax(axis=1)\n",
    "\n",
    "lstm_accuracy = accuracy_score(y_test_labels, lstm_y_pred_labels)\n",
    "lstm_report = classification_report(y_test_labels, lstm_y_pred_labels)\n",
    "\n",
    "print(\"LSTM Results:\")\n",
    "print(f\"Accuracy: {lstm_accuracy}\")\n",
    "print(\"Classification Report:\")\n",
    "print(lstm_report)"
   ]
  },
  {
   "cell_type": "code",
   "execution_count": 35,
   "metadata": {},
   "outputs": [
    {
     "name": "stdout",
     "output_type": "stream",
     "text": [
      "Epoch 1/5\n"
     ]
    },
    {
     "name": "stderr",
     "output_type": "stream",
     "text": [
      "c:\\Python312\\Lib\\site-packages\\keras\\src\\layers\\core\\embedding.py:90: UserWarning: Argument `input_length` is deprecated. Just remove it.\n",
      "  warnings.warn(\n"
     ]
    },
    {
     "name": "stdout",
     "output_type": "stream",
     "text": [
      "62/62 - 10s - 166ms/step - accuracy: 0.3508 - loss: 1.0587 - val_accuracy: 0.5626 - val_loss: 0.9667\n",
      "Epoch 2/5\n",
      "62/62 - 7s - 111ms/step - accuracy: 0.6110 - loss: 0.8688 - val_accuracy: 0.3174 - val_loss: 1.1744\n",
      "Epoch 3/5\n",
      "62/62 - 7s - 107ms/step - accuracy: 0.6830 - loss: 0.6228 - val_accuracy: 0.6999 - val_loss: 0.5817\n",
      "Epoch 4/5\n",
      "62/62 - 7s - 111ms/step - accuracy: 0.7955 - loss: 0.4178 - val_accuracy: 0.7304 - val_loss: 0.5629\n",
      "Epoch 5/5\n",
      "62/62 - 7s - 113ms/step - accuracy: 0.8293 - loss: 0.3234 - val_accuracy: 0.8108 - val_loss: 0.4623\n",
      "\u001b[1m31/31\u001b[0m \u001b[32m━━━━━━━━━━━━━━━━━━━━\u001b[0m\u001b[37m\u001b[0m \u001b[1m1s\u001b[0m 23ms/step\n",
      "BiLSTM Results:\n",
      "Accuracy: 0.8107833163784334\n",
      "Classification Report:\n",
      "              precision    recall  f1-score   support\n",
      "\n",
      "           0       0.57      0.67      0.62        52\n",
      "           1       0.32      0.53      0.40        99\n",
      "           2       0.93      0.85      0.89       832\n",
      "\n",
      "    accuracy                           0.81       983\n",
      "   macro avg       0.61      0.68      0.64       983\n",
      "weighted avg       0.85      0.81      0.83       983\n",
      "\n"
     ]
    }
   ],
   "source": [
    "# BiLSTM Model\n",
    "bilstm_model = Sequential()\n",
    "bilstm_model.add(Embedding(5000, 128, input_length=100))\n",
    "bilstm_model.add(SpatialDropout1D(0.2))\n",
    "bilstm_model.add(Bidirectional(LSTM(100, dropout=0.2, recurrent_dropout=0.2)))\n",
    "bilstm_model.add(Dense(3, activation='softmax'))\n",
    "bilstm_model.compile(loss='categorical_crossentropy', optimizer='adam', metrics=['accuracy'])\n",
    "bilstm_model.fit(X_train, y_train, epochs=5, batch_size=64, validation_data=(X_test, y_test), class_weight=class_weights_dl, verbose=2)\n",
    "\n",
    "bilstm_y_pred = bilstm_model.predict(X_test)\n",
    "bilstm_y_pred_labels = bilstm_y_pred.argmax(axis=1)\n",
    "y_test_labels = y_test.argmax(axis=1)\n",
    "\n",
    "bilstm_accuracy = accuracy_score(y_test_labels, bilstm_y_pred_labels)\n",
    "bilstm_report = classification_report(y_test_labels, bilstm_y_pred_labels)\n",
    "\n",
    "print(\"BiLSTM Results:\")\n",
    "print(f\"Accuracy: {bilstm_accuracy}\")\n",
    "print(\"Classification Report:\")\n",
    "print(bilstm_report)"
   ]
  },
  {
   "cell_type": "code",
   "execution_count": 36,
   "metadata": {},
   "outputs": [],
   "source": [
    "# Compare the accuracy of all models\n",
    "accuracy_scores_all = {\n",
    "    'Naive Bayes': nb_accuracy,\n",
    "    'SVM': svm_accuracy,\n",
    "    'Random Forest': rf_accuracy,\n",
    "    'CNN': cnn_accuracy,\n",
    "    'LSTM': lstm_accuracy,\n",
    "    'BiLSTM': bilstm_accuracy\n",
    "}"
   ]
  },
  {
   "cell_type": "code",
   "execution_count": 37,
   "metadata": {},
   "outputs": [
    {
     "name": "stdout",
     "output_type": "stream",
     "text": [
      "\n",
      "The best model based on accuracy is: CNN with accuracy 0.8921668362156663\n"
     ]
    }
   ],
   "source": [
    "# Find the best model among all based on accuracy\n",
    "best_model = max(accuracy_scores_all, key=accuracy_scores_all.get)\n",
    "print(f\"\\nThe best model based on accuracy is: {best_model} with accuracy {accuracy_scores_all[best_model]}\")"
   ]
  },
  {
   "cell_type": "code",
   "execution_count": 41,
   "metadata": {},
   "outputs": [
    {
     "name": "stdout",
     "output_type": "stream",
     "text": [
      "\u001b[1m1/1\u001b[0m \u001b[32m━━━━━━━━━━━━━━━━━━━━\u001b[0m\u001b[37m\u001b[0m \u001b[1m0s\u001b[0m 61ms/step\n",
      "The detected stance for the input review is: Neutral\n"
     ]
    }
   ],
   "source": [
    "# Function to detect stance of an input review\n",
    "def predict_stance(review):\n",
    "    # Preprocess the input review\n",
    "    review_tfidf = tfidf.transform([review])\n",
    "    \n",
    "    # Use the best model to predict the stance\n",
    "    if best_model == 'Naive Bayes':\n",
    "        prediction = nb_model.predict(review_tfidf)\n",
    "    elif best_model == 'SVM':\n",
    "        prediction_encoded = svm_model.predict(review_tfidf)\n",
    "        prediction = label_encoder.inverse_transform(prediction_encoded)\n",
    "    elif best_model == 'Random Forest':\n",
    "        prediction_encoded = rf_model.predict(review_tfidf)\n",
    "        prediction = label_encoder.inverse_transform(prediction_encoded)\n",
    "    elif best_model == 'CNN':\n",
    "        review_seq = tokenizer.texts_to_sequences([review])\n",
    "        review_pad = pad_sequences(review_seq, maxlen=100)\n",
    "        prediction_probs = cnn_model.predict(review_pad)\n",
    "        prediction = [np.argmax(prediction_probs)]\n",
    "        prediction = label_encoder.inverse_transform(prediction)\n",
    "    elif best_model == 'LSTM':\n",
    "        review_seq = tokenizer.texts_to_sequences([review])\n",
    "        review_pad = pad_sequences(review_seq, maxlen=100)\n",
    "        prediction_probs = lstm_model.predict(review_pad)\n",
    "        prediction = [np.argmax(prediction_probs)]\n",
    "        prediction = label_encoder.inverse_transform(prediction)\n",
    "    elif best_model == 'BiLSTM':\n",
    "        review_seq = tokenizer.texts_to_sequences([review])\n",
    "        review_pad = pad_sequences(review_seq, maxlen=100)\n",
    "        prediction_probs = bilstm_model.predict(review_pad)\n",
    "        prediction = [np.argmax(prediction_probs)]\n",
    "        prediction = label_encoder.inverse_transform(prediction)\n",
    "    \n",
    "    return prediction[0]\n",
    "\n",
    "# Example usage of the function\n",
    "input_review = \"I dont liked.\"\n",
    "detected_stance = predict_stance(input_review)\n",
    "print(f\"The detected stance for the input review is: {detected_stance}\")"
   ]
  }
 ],
 "metadata": {
  "kernelspec": {
   "display_name": "Python 3",
   "language": "python",
   "name": "python3"
  },
  "language_info": {
   "codemirror_mode": {
    "name": "ipython",
    "version": 3
   },
   "file_extension": ".py",
   "mimetype": "text/x-python",
   "name": "python",
   "nbconvert_exporter": "python",
   "pygments_lexer": "ipython3",
   "version": "3.12.3"
  }
 },
 "nbformat": 4,
 "nbformat_minor": 2
}
